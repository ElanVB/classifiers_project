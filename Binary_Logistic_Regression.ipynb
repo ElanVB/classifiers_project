{
 "cells": [
  {
   "cell_type": "code",
   "execution_count": null,
   "metadata": {},
   "outputs": [],
   "source": [
    "# import the packages we need - google some of them to see what they are and do\n",
    "import numpy as np\n",
    "from ipywidgets import interact\n",
    "import matplotlib.pyplot as plt\n",
    "from sklearn.linear_model import LogisticRegression"
   ]
  },
  {
   "cell_type": "markdown",
   "metadata": {},
   "source": [
    "First, let's read in the data we will use to train our model and the images we will use to test our model (later will will also include a validation set, read up on why we split our data into sets [here](https://towardsdatascience.com/train-validation-and-test-sets-72cb40cba9e7).\n",
    "\n",
    "Note: You must run the `Digits.ipynb` first in order to have the data."
   ]
  },
  {
   "cell_type": "code",
   "execution_count": null,
   "metadata": {},
   "outputs": [],
   "source": [
    "train_input = np.load(\"train_input.npy\")\n",
    "train_output = np.load(\"train_output.npy\")\n",
    "\n",
    "test_input = np.load(\"test_input.npy\")\n",
    "test_output = np.load(\"test_output.npy\")"
   ]
  },
  {
   "cell_type": "markdown",
   "metadata": {},
   "source": [
    "Let's make sure we have the right data:"
   ]
  },
  {
   "cell_type": "code",
   "execution_count": null,
   "metadata": {},
   "outputs": [],
   "source": [
    "print(\"train_input has shape {}\".format(train_input.shape))\n",
    "print(\"train_output has shape {}\".format(train_output.shape))\n",
    "\n",
    "print(\"test_input has shape {}\".format(test_input.shape))\n",
    "print(\"test_output has shape {}\".format(test_output.shape))"
   ]
  },
  {
   "cell_type": "code",
   "execution_count": null,
   "metadata": {},
   "outputs": [],
   "source": [
    "image = train_input[0].reshape((8, 8))\n",
    "label = np.argmax(train_output[0])\n",
    "\n",
    "# Display the n-th digit\n",
    "## create a figure to plot on\n",
    "plt.figure(figsize=(5, 5))\n",
    "\n",
    "## set the title of the plot\n",
    "plt.title(\"This is a {}\".format(label))\n",
    "\n",
    "## plot the digit as an image\n",
    "plt.imshow(image, cmap=plt.cm.gray_r, interpolation='nearest')\n",
    "\n",
    "## remove the numbers on the axes\n",
    "plt.xticks([])\n",
    "plt.yticks([])\n",
    "\n",
    "## show the plot\n",
    "plt.show()"
   ]
  },
  {
   "cell_type": "markdown",
   "metadata": {},
   "source": [
    "It looks like we have the right data.\n",
    "The only thing left to do is change it slightly as we are not going to be working with a model that is capable of predicting 10 different types of labels.\n",
    "This model will only be able to predict one of two classes (hence the name: \"*Binary* Logistic Regression\").\n",
    "\n",
    "So, let's make a model that only predicts wheather a given image is a zero or not:"
   ]
  },
  {
   "cell_type": "code",
   "execution_count": null,
   "metadata": {},
   "outputs": [],
   "source": [
    "train_output = train_output[:, 0]\n",
    "print(\"train_output has shape {}\".format(train_output.shape))\n",
    "\n",
    "test_output = test_output[:, 0]\n",
    "print(\"test_output has shape {}\".format(test_output.shape))"
   ]
  },
  {
   "cell_type": "code",
   "execution_count": null,
   "metadata": {},
   "outputs": [],
   "source": [
    "def display(n):\n",
    "    image = train_input[n].reshape((8, 8))\n",
    "    label = \"Zero\" if train_output[n] == 1 else \"Not Zero\"\n",
    "\n",
    "    # Display the n-th digit\n",
    "    ## create a figure to plot on\n",
    "    plt.figure(figsize=(5, 5))\n",
    "\n",
    "    ## set the title of the plot\n",
    "    plt.title(label)\n",
    "\n",
    "    ## plot the digit as an image\n",
    "    plt.imshow(image, cmap=plt.cm.gray_r, interpolation='nearest')\n",
    "\n",
    "    ## remove the numbers on the axes\n",
    "    plt.xticks([])\n",
    "    plt.yticks([])\n",
    "\n",
    "    ## show the plot\n",
    "    plt.show()\n",
    "\n",
    "# create a slider-bar\n",
    "interact(display, n=(0, train_input.shape[0] - 1))"
   ]
  },
  {
   "cell_type": "markdown",
   "metadata": {},
   "source": [
    "Great, that is looking good for now.\n",
    "\n",
    "Note that we might run into difficulties later as a result of the classes now being inbalanced (there are more examples of \"not zeros\" than there are of zeros.\n",
    "Let's first build a model using this data and compare it to one where the classes are balanced.\n",
    "_____________________________________________________"
   ]
  },
  {
   "cell_type": "markdown",
   "metadata": {},
   "source": [
    "First We will have a look at a LogisticRegression package, see what funcitons it has, how they work and then we will implement our own. We will be looking at the `LogisticRegression` class in the Ski-kit-learn package.\n",
    "\n",
    "Let's see what functions the `LogisticRegression` class has:"
   ]
  },
  {
   "cell_type": "code",
   "execution_count": null,
   "metadata": {},
   "outputs": [],
   "source": [
    "help(LogisticRegression)"
   ]
  },
  {
   "cell_type": "markdown",
   "metadata": {},
   "source": [
    "Ok, great.\n",
    "Now, let's create a `LogisticRegression` object and train it."
   ]
  },
  {
   "cell_type": "code",
   "execution_count": null,
   "metadata": {},
   "outputs": [],
   "source": [
    "# create the object\n",
    "model = LogisticRegression()\n",
    "\n",
    "# train (or fit) it on our training data\n",
    "model.fit(train_input, train_output)"
   ]
  },
  {
   "cell_type": "markdown",
   "metadata": {},
   "source": [
    "The model is now ready to make predictions!\n",
    "Let's scroll through and see how well it does on the test data:"
   ]
  },
  {
   "cell_type": "code",
   "execution_count": null,
   "metadata": {},
   "outputs": [],
   "source": [
    "def display_test(n):\n",
    "    image = test_input[n].reshape((8, 8))\n",
    "    label = \"Zero\" if test_output[n] == 1 else \"Not Zero\"\n",
    "    predicted_label = \"Zero\" if model.predict([test_input[n]]) == 1 else \"Not Zero\"\n",
    "\n",
    "    # Display the n-th digit\n",
    "    ## create a figure to plot on\n",
    "    plt.figure(figsize=(5, 5))\n",
    "\n",
    "    ## set the title of the plot\n",
    "    plt.title(\"Correct label: {}\\nPredicted label: {}\".format(label, predicted_label))\n",
    "\n",
    "    ## plot the digit as an image\n",
    "    plt.imshow(image, cmap=plt.cm.gray_r, interpolation='nearest')\n",
    "\n",
    "    ## remove the numbers on the axes\n",
    "    plt.xticks([])\n",
    "    plt.yticks([])\n",
    "\n",
    "    ## show the plot\n",
    "    plt.show()\n",
    "\n",
    "# create a slider-bar\n",
    "interact(display_test, n=(0, test_input.shape[0] - 1))"
   ]
  },
  {
   "cell_type": "markdown",
   "metadata": {},
   "source": [
    "It seems to be doing very well!\n",
    "\n",
    "Let's get an objective accuracy reading for our model:"
   ]
  },
  {
   "cell_type": "code",
   "execution_count": null,
   "metadata": {},
   "outputs": [],
   "source": [
    "print(\"The accuracy of our model is {}%\".format(model.score(test_input, test_output)*100))"
   ]
  },
  {
   "cell_type": "markdown",
   "metadata": {},
   "source": [
    "100% Accuracy!\n",
    "That is pretty good!\n",
    "___________________________________________"
   ]
  },
  {
   "cell_type": "markdown",
   "metadata": {},
   "source": [
    "Now it is your turn.\n",
    "Create a class called `MyLogisticRegression` and implement the constructor, `fit`, `predict` and `score` funcitons (you can add more as you feel is necessary).\n",
    "Once you have done this fit and test it on the data used for the above model."
   ]
  },
  {
   "cell_type": "code",
   "execution_count": null,
   "metadata": {},
   "outputs": [],
   "source": [
    "class MyLogisticRegression:\n",
    "    def __init__():\n",
    "        pass\n",
    "    \n",
    "    def fit(inputs, outputs):\n",
    "        pass\n",
    "    \n",
    "    def predict(inputs):\n",
    "        pass\n",
    "    \n",
    "    def score(inputs, outputs):\n",
    "        pass"
   ]
  }
 ],
 "metadata": {
  "kernelspec": {
   "display_name": "Python [conda env:ml]",
   "language": "python",
   "name": "conda-env-ml-py"
  },
  "language_info": {
   "codemirror_mode": {
    "name": "ipython",
    "version": 3
   },
   "file_extension": ".py",
   "mimetype": "text/x-python",
   "name": "python",
   "nbconvert_exporter": "python",
   "pygments_lexer": "ipython3",
   "version": "3.6.6"
  }
 },
 "nbformat": 4,
 "nbformat_minor": 2
}
