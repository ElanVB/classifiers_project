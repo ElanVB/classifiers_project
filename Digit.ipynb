{
 "cells": [
  {
   "cell_type": "code",
   "execution_count": 1,
   "metadata": {},
   "outputs": [],
   "source": [
    "# import a package that can plot graphics for us\n",
    "import matplotlib.pyplot as plt\n",
    "\n",
    "# import a tool that will help us visualize the data\n",
    "from ipywidgets import interact\n",
    "\n",
    "# import the dataset\n",
    "from sklearn.datasets import load_digits\n",
    "\n",
    "# import a package that will help us \"preprocess\" the data (name it understandable to our classifiers)\n",
    "import numpy as np"
   ]
  },
  {
   "cell_type": "markdown",
   "metadata": {},
   "source": [
    "Let's load the data and see what it looks like.\n",
    "We can use the `interact` function to scroll through the images in the data set."
   ]
  },
  {
   "cell_type": "code",
   "execution_count": 2,
   "metadata": {},
   "outputs": [
    {
     "data": {
      "application/vnd.jupyter.widget-view+json": {
       "model_id": "f2eca15e20524b158508bc7d537cdbf7",
       "version_major": 2,
       "version_minor": 0
      },
      "text/plain": [
       "interactive(children=(IntSlider(value=898, description='n', max=1796), Output()), _dom_classes=('widget-intera…"
      ]
     },
     "metadata": {},
     "output_type": "display_data"
    },
    {
     "data": {
      "text/plain": [
       "<function __main__.display_n(n)>"
      ]
     },
     "execution_count": 2,
     "metadata": {},
     "output_type": "execute_result"
    }
   ],
   "source": [
    "# Load the digits dataset\n",
    "digits = load_digits()\n",
    "\n",
    "def display_n(n):\n",
    "    digit_image = digits.images[n]\n",
    "    digit_label = digits.target[n]\n",
    "    \n",
    "    # Display the n-th digit\n",
    "    ## create a figure to plot on\n",
    "    plt.figure(figsize=(5, 5))\n",
    "    \n",
    "    ## set the title of the plot\n",
    "    plt.title(\"This is a {}\".format(digit_label))\n",
    "    \n",
    "    ## plot the digit as an image\n",
    "    plt.imshow(digit_image, cmap=plt.cm.gray_r, interpolation='nearest')\n",
    "    \n",
    "    ## remove the numbers on the axes\n",
    "    plt.xticks([])\n",
    "    plt.yticks([])\n",
    "    \n",
    "    ## show the plot\n",
    "    plt.show()\n",
    "    \n",
    "# create a slider-bar that will let us scroll through and look at the images\n",
    "interact(display_n, n=(0, digits.images.shape[0] - 1))"
   ]
  },
  {
   "cell_type": "markdown",
   "metadata": {},
   "source": [
    "We can see that the dataset contains images and a \"label\" (or target) for each image.\n",
    "This label tells us that this is an image of a eight (for example).\n",
    "We will need to use both the images and the labels to train our classifiers.\n",
    "\n",
    "Let's have a better look how the images are actually represented:"
   ]
  },
  {
   "cell_type": "code",
   "execution_count": 3,
   "metadata": {},
   "outputs": [
    {
     "name": "stdout",
     "output_type": "stream",
     "text": [
      "There are 1797 images in the dataset.\n"
     ]
    }
   ],
   "source": [
    "num_images = digits.images.shape[0]\n",
    "print(\"There are {} images in the dataset.\".format(num_images))"
   ]
  },
  {
   "cell_type": "code",
   "execution_count": 4,
   "metadata": {},
   "outputs": [
    {
     "name": "stdout",
     "output_type": "stream",
     "text": [
      "The images are stored in a 2-D array.\n"
     ]
    }
   ],
   "source": [
    "num_dimensions = len(digits.images[0].shape)\n",
    "print(\"The images are stored in a {}-D array.\".format(num_dimensions))"
   ]
  },
  {
   "cell_type": "code",
   "execution_count": 5,
   "metadata": {},
   "outputs": [
    {
     "name": "stdout",
     "output_type": "stream",
     "text": [
      "The array the image is stored has a shape of (8, 8) (this is the size in each dimension).\n"
     ]
    }
   ],
   "source": [
    "example_image_shape = digits.images[0].shape\n",
    "print(\"The array the image is stored has a shape of {} (this is the size in each dimension).\".format(example_image_shape))"
   ]
  },
  {
   "cell_type": "code",
   "execution_count": 6,
   "metadata": {},
   "outputs": [
    {
     "name": "stdout",
     "output_type": "stream",
     "text": [
      "The array actually looks like this:\n",
      "[[  0.   0.   5.  13.   9.   1.   0.   0.]\n",
      " [  0.   0.  13.  15.  10.  15.   5.   0.]\n",
      " [  0.   3.  15.   2.   0.  11.   8.   0.]\n",
      " [  0.   4.  12.   0.   0.   8.   8.   0.]\n",
      " [  0.   5.   8.   0.   0.   9.   8.   0.]\n",
      " [  0.   4.  11.   0.   1.  12.   7.   0.]\n",
      " [  0.   2.  14.   5.  10.  12.   0.   0.]\n",
      " [  0.   0.   6.  13.  10.   0.   0.   0.]]\n"
     ]
    }
   ],
   "source": [
    "example_image = digits.images[0]\n",
    "print(\"The array actually looks like this:\")\n",
    "print(example_image)"
   ]
  },
  {
   "cell_type": "code",
   "execution_count": 7,
   "metadata": {},
   "outputs": [
    {
     "name": "stdout",
     "output_type": "stream",
     "text": [
      "The minimum value in the images is '0.0'.\n"
     ]
    }
   ],
   "source": [
    "min_value = digits.images.min()\n",
    "print(\"The minimum value in the images is '{}'.\".format(min_value))"
   ]
  },
  {
   "cell_type": "code",
   "execution_count": 8,
   "metadata": {},
   "outputs": [
    {
     "name": "stdout",
     "output_type": "stream",
     "text": [
      "The maximum value in the images is '16.0'.\n"
     ]
    }
   ],
   "source": [
    "max_value = digits.images.max()\n",
    "print(\"The maximum value in the images is '{}'.\".format(max_value))"
   ]
  },
  {
   "cell_type": "markdown",
   "metadata": {},
   "source": [
    "We can see that our images are stored in 2-D arrays and that the values in the arrays range from 0 to 16.\n",
    "\n",
    "We will need to change our data slightly so that our models will be able to learn from them:\n",
    "\n",
    "* flatten the images: some of our classifiers cannot learn from 2-D arrays, thus we will need to change all of our images to 1-D arrays;\n",
    "* zero-mean the images: subtract the average of the image from each pixel; and\n",
    "* normalize the images: scale our array to only contain values between -1 and 1.\n",
    "\n",
    "You may wonder why we are normalizing and zero-meaning the images.\n",
    "Machine learning models always work better with input values that range between -1 and 1.\n",
    "For a short explanation why, look [here](https://www.coursera.org/lecture/deep-neural-network/normalizing-inputs-lXv6U)."
   ]
  },
  {
   "cell_type": "code",
   "execution_count": 9,
   "metadata": {},
   "outputs": [
    {
     "name": "stdout",
     "output_type": "stream",
     "text": [
      "All images are now 1-D arrays that are 64 long.\n"
     ]
    }
   ],
   "source": [
    "# flatten\n",
    "digits.images = digits.images.reshape(-1, 8*8)\n",
    "\n",
    "# double check\n",
    "num_dimensions = len(digits.images[0].shape)\n",
    "flat_image_length = digits.images[0].shape[0]\n",
    "print(\"All images are now {}-D arrays that are {} long.\".format(num_dimensions, flat_image_length))"
   ]
  },
  {
   "cell_type": "code",
   "execution_count": 10,
   "metadata": {},
   "outputs": [
    {
     "name": "stdout",
     "output_type": "stream",
     "text": [
      "The average of the data is '-2.7678348081918204e-17' (which is essensially zero).\n"
     ]
    }
   ],
   "source": [
    "# zero-mean\n",
    "means = digits.images.mean(axis=0)\n",
    "digits.images -= means\n",
    "\n",
    "# double check\n",
    "print(\"The average of the data is '{}' (which is essensially zero).\".format(digits.images.mean()))"
   ]
  },
  {
   "cell_type": "code",
   "execution_count": 11,
   "metadata": {},
   "outputs": [
    {
     "name": "stdout",
     "output_type": "stream",
     "text": [
      "The minimum value in the images is '-1.0' and the maximum is '1.0'.\n"
     ]
    }
   ],
   "source": [
    "# normalize\n",
    "# get min and max values\n",
    "min_values = digits.images.min(axis=0)\n",
    "max_values = digits.images.max(axis=0)\n",
    "\n",
    "# get the larges magnitudes\n",
    "max_magnitudes = np.maximum(max_values, np.abs(min_values))\n",
    "\n",
    "# check for zero's (as we cannot divide by zero) and set them to 1 (since dividing by 1 does nothing)\n",
    "max_magnitudes[max_magnitudes == 0] = 1\n",
    "\n",
    "# normalize the data\n",
    "digits.images /= max_magnitudes\n",
    "\n",
    "# double check\n",
    "min_value = digits.images.min()\n",
    "max_value = digits.images.max()\n",
    "print(\"The minimum value in the images is '{}' and the maximum is '{}'.\".format(min_value, max_value))"
   ]
  },
  {
   "cell_type": "code",
   "execution_count": 12,
   "metadata": {},
   "outputs": [
    {
     "name": "stdout",
     "output_type": "stream",
     "text": [
      "Now the previous example image looks like this:\n",
      "[  0.00000000e+00  -3.94793926e-02  -1.89700500e-02   9.83591142e-02\n",
      "  -2.40383261e-01  -4.67977345e-01  -9.30656934e-02  -8.71940723e-03\n",
      "  -2.79017857e-03  -1.42357662e-01   2.52130568e-01   2.52148465e-01\n",
      "  -2.71762668e-02   8.34671930e-01   2.22811984e-01  -9.07814693e-03\n",
      "  -1.39314572e-03   2.97379242e-02   5.14666217e-01  -5.54306191e-01\n",
      "  -7.97337001e-01   3.89771801e-01   4.37074164e-01  -6.29987400e-03\n",
      "  -1.11420613e-03   1.22129946e-01   3.19948583e-01  -1.00000000e+00\n",
      "  -1.00000000e+00   5.30891846e-02   4.48047389e-01  -2.23089794e-03\n",
      "   0.00000000e+00   2.28166460e-01   3.99358889e-02  -1.00000000e+00\n",
      "  -1.00000000e+00   2.92751225e-02   4.59006523e-01   0.00000000e+00\n",
      "  -2.23089794e-03   1.67605960e-01   4.51666056e-01  -8.24018271e-01\n",
      "  -8.01202807e-01   4.56928586e-01   2.82507431e-01  -4.56535917e-03\n",
      "  -9.05103391e-04   8.46976643e-02   7.64513170e-01  -4.75848792e-01\n",
      "   6.19939720e-02   3.70099752e-01  -3.03472663e-01  -1.61374511e-02\n",
      "  -5.56792873e-04  -3.20336928e-02   4.23661071e-02   7.53544467e-02\n",
      "  -1.53197305e-01  -7.32361270e-01  -1.48426266e-01  -2.33120974e-02]\n"
     ]
    }
   ],
   "source": [
    "example_image = digits.images[0]\n",
    "print(\"Now the previous example image looks like this:\")\n",
    "print(example_image)"
   ]
  },
  {
   "cell_type": "code",
   "execution_count": null,
   "metadata": {},
   "outputs": [],
   "source": []
  }
 ],
 "metadata": {
  "kernelspec": {
   "display_name": "Python [conda env:ml]",
   "language": "python",
   "name": "conda-env-ml-py"
  },
  "language_info": {
   "codemirror_mode": {
    "name": "ipython",
    "version": 3
   },
   "file_extension": ".py",
   "mimetype": "text/x-python",
   "name": "python",
   "nbconvert_exporter": "python",
   "pygments_lexer": "ipython3",
   "version": "3.6.6"
  }
 },
 "nbformat": 4,
 "nbformat_minor": 2
}
